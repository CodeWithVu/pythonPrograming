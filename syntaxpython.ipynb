{
  "cells": [
    {
      "cell_type": "markdown",
      "metadata": {
        "id": "view-in-github",
        "colab_type": "text"
      },
      "source": [
        "<a href=\"https://colab.research.google.com/github/CodeWithVu/pythonPrograming/blob/main/syntaxpython.ipynb\" target=\"_parent\"><img src=\"https://colab.research.google.com/assets/colab-badge.svg\" alt=\"Open In Colab\"/></a>"
      ]
    },
    {
      "cell_type": "markdown",
      "id": "6335aaf1",
      "metadata": {
        "id": "6335aaf1"
      },
      "source": [
        "## Các bài toán cơ bản với python"
      ]
    },
    {
      "cell_type": "code",
      "execution_count": null,
      "id": "e5317aea",
      "metadata": {
        "id": "e5317aea",
        "colab": {
          "base_uri": "https://localhost:8080/"
        },
        "outputId": "2a462a85-fbf0-43b5-a380-3c69b9a6902c"
      },
      "outputs": [
        {
          "output_type": "stream",
          "name": "stdout",
          "text": [
            "5.9\n",
            "-0.10000000000000009\n",
            "8.7\n",
            "0.9666666666666667\n"
          ]
        }
      ],
      "source": [
        "firstNum = 2.9;\n",
        "secondNum = 3;\n",
        "\n",
        "def tong(a, b):\n",
        "  sum = firstNum + secondNum\n",
        "  print(sum)\n",
        "\n",
        "def hieu(a, b):\n",
        "  minus = firstNum - secondNum\n",
        "  print(minus)\n",
        "\n",
        "def tich(a, b):\n",
        "  multiply = firstNum * secondNum\n",
        "  print(multiply)\n",
        "\n",
        "def thuong(a, b):\n",
        "  divide = firstNum / secondNum\n",
        "  print(divide)\n",
        "\n",
        "tong(firstNum, secondNum)\n",
        "hieu(firstNum, secondNum)\n",
        "tich(firstNum, secondNum)\n",
        "thuong(firstNum, secondNum)"
      ]
    },
    {
      "cell_type": "code",
      "execution_count": null,
      "id": "YLQJxfp3mkID",
      "metadata": {
        "id": "YLQJxfp3mkID",
        "colab": {
          "base_uri": "https://localhost:8080/"
        },
        "outputId": "79b9c7c8-d3bc-4879-be08-55b5c073e2d0"
      },
      "outputs": [
        {
          "output_type": "stream",
          "name": "stdout",
          "text": [
            "4\n",
            "10\n"
          ]
        }
      ],
      "source": [
        "# Tính tổng các số từ 1 đến n\n",
        "num = int(input())\n",
        "def tongNSo(num):\n",
        "  tong = 0\n",
        "  for i in range(num + 1):\n",
        "    tong += i\n",
        "  return tong\n",
        "print(tongNSo(num))"
      ]
    },
    {
      "cell_type": "markdown",
      "id": "93a453b7",
      "metadata": {
        "id": "93a453b7"
      },
      "source": []
    },
    {
      "cell_type": "code",
      "source": [
        "# kiểm tra số nguyên tố\n",
        "import math\n",
        "num2 = int(input())\n",
        "\n",
        "def checkSNT(num2):\n",
        "  if(num2 < 2):\n",
        "    return False\n",
        "  if(num2 >= 2):\n",
        "    for i in range(2, int(math.sqrt(num2)) + 1):\n",
        "      if num2 % i == 0:\n",
        "        return False\n",
        "  return True\n",
        "\n",
        "print(checkSNT(num2))\n",
        "\n",
        "\n"
      ],
      "metadata": {
        "colab": {
          "base_uri": "https://localhost:8080/"
        },
        "id": "j82w2L4LdlML",
        "outputId": "5db3bf59-0774-457c-8c8b-4a9dcebc3741"
      },
      "id": "j82w2L4LdlML",
      "execution_count": null,
      "outputs": [
        {
          "output_type": "stream",
          "name": "stdout",
          "text": [
            "3\n",
            "True\n"
          ]
        }
      ]
    },
    {
      "cell_type": "code",
      "source": [
        "# Tính tổng các số nguyên tố từ 1 đến n\n",
        "num3 = int(input())\n",
        "\n",
        "def tongNT(num3):\n",
        "  tong = 0\n",
        "  for i in range(num3 + 1):\n",
        "    if(checkSNT(i)):\n",
        "      print(i, end=\" \")\n",
        "      tong += i\n",
        "  return tong\n",
        "\n",
        "print(\"\\n tổng các số nguyên tố từ 1 đến\", num3,  \"là: \",tongNT(num3))\n",
        "\n"
      ],
      "metadata": {
        "colab": {
          "base_uri": "https://localhost:8080/"
        },
        "id": "jmP7xZtLeclT",
        "outputId": "133aa6aa-5b78-4583-a195-97d70d6c3e8c"
      },
      "id": "jmP7xZtLeclT",
      "execution_count": null,
      "outputs": [
        {
          "output_type": "stream",
          "name": "stdout",
          "text": [
            "5\n",
            "2 3 5 \n",
            " tổng các số nguyên tố từ 1 đến 5 là:  10\n"
          ]
        }
      ]
    },
    {
      "cell_type": "code",
      "source": [
        "# Tìm n số nguyên tố đầu tiên (n là input)\n",
        "num4 = int(input())\n",
        "\n",
        "def NSoNguyenToDauTien(num4):\n",
        "  count = 0\n",
        "  num = 2\n",
        "  while count < num4:\n",
        "    if(checkSNT(num)):\n",
        "      print(num, end=\" \")\n",
        "      count += 1\n",
        "    num += 1\n",
        "\n",
        "NSoNguyenToDauTien(num4)"
      ],
      "metadata": {
        "colab": {
          "base_uri": "https://localhost:8080/"
        },
        "id": "phxKiunVdp1o",
        "outputId": "a1964166-696e-4ccb-e691-a0d787c215d9"
      },
      "id": "phxKiunVdp1o",
      "execution_count": null,
      "outputs": [
        {
          "output_type": "stream",
          "name": "stdout",
          "text": [
            "5\n",
            "2 3 5 7 11 "
          ]
        }
      ]
    },
    {
      "cell_type": "code",
      "source": [
        "# Nhập n phần tử vào mảng và tính tổng mảng ,sau đó in ra các số nguyên tố có trong mảng\n",
        "n = int(input(\"Nhap so phan tu\"))\n",
        "arr = []\n",
        "for i in range(n):\n",
        "  x = int(input(f\"Nhập phần tử thứ {i + 1}: \"))\n",
        "  arr.append(x)\n",
        "tong = 0\n",
        "print(\"Cac phan tu cua mang\")\n",
        "for i in arr:\n",
        "  tong += i\n",
        "  print(i, end=\" \")\n",
        "\n",
        "print(\"Tong mang: \", tong)\n",
        "print(\"So nguyen to trong mang\")\n",
        "for i in arr:\n",
        "  if(checkSNT(i)):\n",
        "    print(i, end=\" \")\n"
      ],
      "metadata": {
        "colab": {
          "base_uri": "https://localhost:8080/"
        },
        "id": "aVR70MpVgM9o",
        "outputId": "45ebc8a3-7035-424d-e505-0aa676c86e6a"
      },
      "id": "aVR70MpVgM9o",
      "execution_count": null,
      "outputs": [
        {
          "output_type": "stream",
          "name": "stdout",
          "text": [
            "Nhap so phan tu3\n",
            "Nhập phần tử thứ 1: 1\n",
            "Nhập phần tử thứ 2: 2\n",
            "Nhập phần tử thứ 3: 3\n",
            "Cac phan tu cua mang\n",
            "1 2 3 Tong mang:  6\n",
            "So nguyen to trong mang\n",
            "2 3 "
          ]
        }
      ]
    },
    {
      "cell_type": "code",
      "source": [
        "# bài này tìm phần tử trong mảng với mảng đã nhập ở bên trên\n",
        "print(\"Nhap phan tu can tim\")\n",
        "x = int(input())\n",
        "check = False\n",
        "for i in range(len(arr)):\n",
        "  if(arr[i] == x):\n",
        "    print(\"Vi tri phan tu trong mang\", i)\n",
        "    check = True\n",
        "    break\n",
        "if(check == False):\n",
        "  print(\"Khong tim thay phan tu trong mang\")"
      ],
      "metadata": {
        "colab": {
          "base_uri": "https://localhost:8080/"
        },
        "id": "1F7Pf17AhsEd",
        "outputId": "b1fcf238-b25c-4f73-9826-c2f72b087769"
      },
      "id": "1F7Pf17AhsEd",
      "execution_count": null,
      "outputs": [
        {
          "output_type": "stream",
          "name": "stdout",
          "text": [
            "Nhap phan tu can tim\n",
            "4\n",
            "Khong tim thay phan tu trong mang\n"
          ]
        }
      ]
    },
    {
      "cell_type": "code",
      "source": [
        "# phép nối mảng\n",
        "arr = [1, 2, 3]\n",
        "arr2 = [4, 5, 6]\n",
        "\n",
        "arr3 = arr + arr2\n",
        "for i in arr3:\n",
        "  print(i, end=\" \")"
      ],
      "metadata": {
        "colab": {
          "base_uri": "https://localhost:8080/"
        },
        "id": "KJA3s9MUiD8K",
        "outputId": "88933403-47bb-499d-b351-98336171533f"
      },
      "id": "KJA3s9MUiD8K",
      "execution_count": null,
      "outputs": [
        {
          "output_type": "stream",
          "name": "stdout",
          "text": [
            "1 2 3 4 5 6 "
          ]
        }
      ]
    },
    {
      "cell_type": "code",
      "source": [
        "arr4 = [1, 2, 3, 4, 5, 6, 7, 8]\n",
        "\n",
        "b = [x for x in arr4 if x % 2 == 0]\n",
        "c = [x for x in arr4 if x % 2 != 0]\n",
        "\n",
        "print(b)\n",
        "print(c)"
      ],
      "metadata": {
        "colab": {
          "base_uri": "https://localhost:8080/"
        },
        "id": "9LZ9_yqiimXq",
        "outputId": "ebac0e48-0844-4f66-88fe-e0879c42537f"
      },
      "id": "9LZ9_yqiimXq",
      "execution_count": null,
      "outputs": [
        {
          "output_type": "stream",
          "name": "stdout",
          "text": [
            "[2, 4, 6, 8]\n",
            "[1, 3, 5, 7]\n"
          ]
        }
      ]
    },
    {
      "cell_type": "code",
      "source": [],
      "metadata": {
        "id": "t3gSN529iryN"
      },
      "id": "t3gSN529iryN",
      "execution_count": null,
      "outputs": []
    }
  ],
  "metadata": {
    "colab": {
      "provenance": [],
      "include_colab_link": true
    },
    "kernelspec": {
      "display_name": "base",
      "language": "python",
      "name": "python3"
    },
    "language_info": {
      "codemirror_mode": {
        "name": "ipython",
        "version": 3
      },
      "file_extension": ".py",
      "mimetype": "text/x-python",
      "name": "python",
      "nbconvert_exporter": "python",
      "pygments_lexer": "ipython3",
      "version": "3.12.3"
    }
  },
  "nbformat": 4,
  "nbformat_minor": 5
}