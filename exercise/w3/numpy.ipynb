{
 "cells": [
  {
   "cell_type": "code",
   "execution_count": 2,
   "id": "2f63d68f",
   "metadata": {},
   "outputs": [],
   "source": [
    "import numpy as np\n"
   ]
  },
  {
   "cell_type": "code",
   "execution_count": 7,
   "id": "bdcebe1d",
   "metadata": {},
   "outputs": [
    {
     "name": "stdout",
     "output_type": "stream",
     "text": [
      "[[0.99376427 0.19543443 0.75583016 0.36022652 0.19218305]\n",
      " [0.98317882 0.92685847 0.03032602 0.44428998 0.53900125]\n",
      " [0.74506764 0.34142037 0.71724883 0.12579072 0.17832398]\n",
      " [0.62050571 0.17409916 0.27017898 0.24091238 0.11809173]\n",
      " [0.54118774 0.13300076 0.97324664 0.05233582 0.87816965]]\n",
      "[[7 2 8 4 6]\n",
      " [6 8 8 5 4]\n",
      " [0 1 3 7 9]\n",
      " [4 3 3 3 1]\n",
      " [8 0 0 5 2]]\n"
     ]
    }
   ],
   "source": [
    "arr = np.random.rand(5, 5)\n",
    "\n",
    "arr2 = np.random.randint(0, 10, (5,5))\n",
    "\n",
    "print(arr)\n",
    "\n",
    "print(arr2)"
   ]
  },
  {
   "cell_type": "code",
   "execution_count": 9,
   "id": "f8cdf90f",
   "metadata": {},
   "outputs": [
    {
     "name": "stdout",
     "output_type": "stream",
     "text": [
      "[[11.10732692  5.38751367 12.86175959 12.28463516 14.2913874 ]\n",
      " [18.53257245 10.74442139 16.70414633 12.80716597 11.40173347]\n",
      " [ 9.1937504   5.31611928 11.22102276 10.97710631 12.7737655 ]\n",
      " [ 7.29651829  3.62672078  7.89011301  6.5569673   7.32813758]\n",
      " [11.8210192   3.27663564  8.47025538 14.19033696 14.34702439]]\n",
      "[[0.14196632 0.09771721 0.09447877 0.09005663 0.03203051]\n",
      " [0.16386314 0.11585731 0.00379075 0.088858   0.13475031]\n",
      " [       inf 0.34142037 0.23908294 0.0179701  0.01981378]\n",
      " [0.15512643 0.05803305 0.09005966 0.08030413 0.11809173]\n",
      " [0.06764847        inf        inf 0.01046716 0.43908482]]\n",
      "[[7.99376427 2.19543443 8.75583016 4.36022652 6.19218305]\n",
      " [6.98317882 8.92685847 8.03032602 5.44428998 4.53900125]\n",
      " [0.74506764 1.34142037 3.71724883 7.12579072 9.17832398]\n",
      " [4.62050571 3.17409916 3.27017898 3.24091238 1.11809173]\n",
      " [8.54118774 0.13300076 0.97324664 5.05233582 2.87816965]]\n",
      "[[-6.00623573 -1.80456557 -7.24416984 -3.63977348 -5.80781695]\n",
      " [-5.01682118 -7.07314153 -7.96967398 -4.55571002 -3.46099875]\n",
      " [ 0.74506764 -0.65857963 -2.28275117 -6.87420928 -8.82167602]\n",
      " [-3.37949429 -2.82590084 -2.72982102 -2.75908762 -0.88190827]\n",
      " [-7.45881226  0.13300076  0.97324664 -4.94766418 -1.12183035]]\n"
     ]
    },
    {
     "name": "stderr",
     "output_type": "stream",
     "text": [
      "C:\\temp\\ipykernel_12324\\746717382.py:5: RuntimeWarning: divide by zero encountered in divide\n",
      "  result2 = np.divide(arr, arr2)\n"
     ]
    }
   ],
   "source": [
    "# Nhân 2 ma trận\n",
    "result1 = np.dot(arr, arr2)\n",
    "\n",
    "# Chia 2 ma trận\n",
    "result2 = np.divide(arr, arr2)\n",
    "\n",
    "# Cộng 2 ma trận\n",
    "result3 = np.add(arr, arr2)\n",
    "\n",
    "# Trừ 2 ma trận\n",
    "result4 = np.subtract(arr, arr2)\n",
    "print(result1)\n",
    "print(result2)\n",
    "print(result3)\n",
    "print(result4)"
   ]
  },
  {
   "cell_type": "markdown",
   "id": "4dc03821",
   "metadata": {},
   "source": [
    "\n",
    "### Tách, ghép ma trận, vector"
   ]
  },
  {
   "cell_type": "markdown",
   "id": "4326dc0e",
   "metadata": {},
   "source": [
    "#### Ghép ma trận"
   ]
  },
  {
   "cell_type": "code",
   "execution_count": 30,
   "id": "c9414a51",
   "metadata": {},
   "outputs": [
    {
     "name": "stdout",
     "output_type": "stream",
     "text": [
      "ma trận 1-D sau khi ghép:  [1 2 3 4 5 6]\n",
      "ma trận 2-D sau khi ghép:  [[1 2 3]\n",
      " [4 5 6]]\n",
      "ma trận 2-D sau khi stack:  [[1 2 3]\n",
      " [4 5 6]]\n",
      "ma trận sau khi dstack:  [[[1 4]\n",
      "  [2 5]\n",
      "  [3 6]]]\n",
      "---------------------\n",
      "[[1 4]\n",
      " [2 5]\n",
      " [3 6]]\n"
     ]
    }
   ],
   "source": [
    "arr1 = np.array([1, 2, 3])\n",
    "\n",
    "arr2 = np.array([4, 5, 6])\n",
    "\n",
    "# ghép 2 ma trận với nhau thành 1 ma trận\n",
    "join_arr_1D = np.concatenate((arr1, arr2))\n",
    "\n",
    "# ghép 2 ma trận vói nhau thành ma trận 2 chiều\n",
    "join_arr_2D = np.vstack((arr1, arr2))\n",
    "\n",
    "join_arr_2D_stack = np.stack((arr1, arr2))\n",
    "\n",
    "join_arr_2D_dstack = np.dstack((arr1, arr2))\n",
    "\n",
    "print(\"ma trận 1-D sau khi ghép: \", join_arr_1D)\n",
    "print(\"ma trận 2-D sau khi ghép: \", join_arr_2D)\n",
    "print(\"ma trận 2-D sau khi stack: \", join_arr_2D_stack)\n",
    "print(\"ma trận sau khi dstack: \", join_arr_2D_dstack)\n",
    "print(\"---------------------\")\n",
    "print(join_arr_2D_dstack[0])"
   ]
  },
  {
   "cell_type": "markdown",
   "id": "7f556f51",
   "metadata": {},
   "source": [
    "#### Tách ma trận"
   ]
  },
  {
   "cell_type": "code",
   "execution_count": 34,
   "id": "119506b0",
   "metadata": {},
   "outputs": [
    {
     "name": "stdout",
     "output_type": "stream",
     "text": [
      "[1 2 3]\n",
      "[4 5 6]\n",
      "[7 8]\n"
     ]
    }
   ],
   "source": [
    "import numpy as np\n",
    "\n",
    "arr = np.array([1, 2, 3, 4, 5, 6, 7, 8])\n",
    "\n",
    "newarr = np.array_split(arr, 3)\n",
    "\n",
    "print(newarr[0])\n",
    "print(newarr[1])\n",
    "print(newarr[2])"
   ]
  },
  {
   "cell_type": "code",
   "execution_count": 36,
   "id": "1a5c0e37",
   "metadata": {},
   "outputs": [
    {
     "name": "stdout",
     "output_type": "stream",
     "text": [
      "[array([[1, 2],\n",
      "       [3, 4]]), array([[5, 6],\n",
      "       [7, 8]]), array([[ 9, 10],\n",
      "       [11, 12]])]\n"
     ]
    }
   ],
   "source": [
    "import numpy as np\n",
    "\n",
    "arr = np.array([[1, 2], [3, 4], [5, 6], [7, 8], [9, 10], [11, 12]])\n",
    "\n",
    "newarr = np.array_split(arr, 3)\n",
    "\n",
    "print(newarr)"
   ]
  },
  {
   "cell_type": "code",
   "execution_count": 35,
   "id": "251b7ddd",
   "metadata": {},
   "outputs": [
    {
     "name": "stdout",
     "output_type": "stream",
     "text": [
      "[array([[ 1],\n",
      "       [ 4],\n",
      "       [ 7],\n",
      "       [10],\n",
      "       [13],\n",
      "       [16]]), array([[ 2],\n",
      "       [ 5],\n",
      "       [ 8],\n",
      "       [11],\n",
      "       [14],\n",
      "       [17]]), array([[ 3],\n",
      "       [ 6],\n",
      "       [ 9],\n",
      "       [12],\n",
      "       [15],\n",
      "       [18]])]\n"
     ]
    }
   ],
   "source": [
    "arr = np.array([[1, 2, 3], [4, 5, 6], [7, 8, 9], [10, 11, 12], [13, 14, 15], [16, 17, 18]])\n",
    "\n",
    "newarr = np.array_split(arr, 3, axis=1)\n",
    "\n",
    "print(newarr)"
   ]
  },
  {
   "cell_type": "markdown",
   "id": "4c576fd4",
   "metadata": {},
   "source": [
    "### hàm shape, reshape, search, join"
   ]
  },
  {
   "cell_type": "markdown",
   "id": "badfd918",
   "metadata": {},
   "source": [
    "#### shape "
   ]
  },
  {
   "cell_type": "code",
   "execution_count": null,
   "id": "2271356f",
   "metadata": {},
   "outputs": [
    {
     "name": "stdout",
     "output_type": "stream",
     "text": [
      "(2, 4)\n"
     ]
    }
   ],
   "source": [
    "# \n",
    "\n",
    "arr = np.array([[1, 2, 3, 4], [5, 6, 7, 8]])\n",
    "\n",
    "print(arr.shape)"
   ]
  },
  {
   "cell_type": "markdown",
   "id": "047696f1",
   "metadata": {},
   "source": [
    "#### reshape"
   ]
  },
  {
   "cell_type": "code",
   "execution_count": null,
   "id": "3026fe4c",
   "metadata": {},
   "outputs": [],
   "source": []
  }
 ],
 "metadata": {
  "kernelspec": {
   "display_name": "base",
   "language": "python",
   "name": "python3"
  },
  "language_info": {
   "codemirror_mode": {
    "name": "ipython",
    "version": 3
   },
   "file_extension": ".py",
   "mimetype": "text/x-python",
   "name": "python",
   "nbconvert_exporter": "python",
   "pygments_lexer": "ipython3",
   "version": "3.12.3"
  }
 },
 "nbformat": 4,
 "nbformat_minor": 5
}
