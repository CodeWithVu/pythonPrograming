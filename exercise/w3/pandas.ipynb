{
 "cells": [
  {
   "cell_type": "code",
   "execution_count": null,
   "id": "adec501f",
   "metadata": {},
   "outputs": [],
   "source": [
    "# 1. Ví dụ đọc ghi file csv\n",
    "# 2. Đọc ghi file json\n",
    "# 3. Ví dụ về dataframe (khởi tạo 1 dataframe truy xuất datafram, thống kê dataframe)\n",
    "# 4. Ví dụ về groupby, merge, join, concat"
   ]
  },
  {
   "cell_type": "code",
   "execution_count": null,
   "id": "a8f25c26",
   "metadata": {},
   "outputs": [],
   "source": [
    "import pandas as pd"
   ]
  },
  {
   "cell_type": "markdown",
   "id": "e5bc616d",
   "metadata": {},
   "source": [
    "Đọc và ghi file csv"
   ]
  },
  {
   "cell_type": "code",
   "execution_count": 3,
   "id": "7b1a6a48",
   "metadata": {},
   "outputs": [],
   "source": [
    "df = pd.read_csv(r\"D:\\Workspace\\University\\hoc-ky-2-nam-3\\PTDL\\Data\\HR_comma_sep.csv\")"
   ]
  },
  {
   "cell_type": "code",
   "execution_count": 4,
   "id": "36c7e702",
   "metadata": {},
   "outputs": [],
   "source": [
    "df.to_csv(r\"D:\\Workspace\\University\\hoc-ky-2-nam-3\\PTDL\\Data\\HR_comma_sep_output.csv\", index=False)"
   ]
  },
  {
   "cell_type": "markdown",
   "id": "3626c52e",
   "metadata": {},
   "source": [
    "Ví dụ về dataframe"
   ]
  },
  {
   "cell_type": "code",
   "execution_count": 5,
   "id": "c64e966a",
   "metadata": {},
   "outputs": [
    {
     "name": "stdout",
     "output_type": "stream",
     "text": [
      "      Name  Age     City\n",
      "0    Alice   25      NYC\n",
      "1      Bob   30       LA\n",
      "2  Charlie   35  Chicago\n",
      "    Name  Age\n",
      "0  Alice   25\n",
      "1    Bob   30\n"
     ]
    }
   ],
   "source": [
    "data = {\n",
    "    'Name': ['Alice', 'Bob', 'Charlie'],\n",
    "    'Age': [25, 30, 35],\n",
    "    'City': ['NYC', 'LA', 'Chicago']\n",
    "}\n",
    "df = pd.DataFrame(data)\n",
    "print(df)\n",
    "\n",
    "# Từ list of lists\n",
    "df2 = pd.DataFrame([['Alice', 25], ['Bob', 30]], columns=['Name', 'Age'])\n",
    "print(df2)"
   ]
  },
  {
   "cell_type": "code",
   "execution_count": 6,
   "id": "4bb9e82b",
   "metadata": {},
   "outputs": [
    {
     "name": "stdout",
     "output_type": "stream",
     "text": [
      "0      Alice\n",
      "1        Bob\n",
      "2    Charlie\n",
      "Name: Name, dtype: object\n",
      "Name    Alice\n",
      "Age        25\n",
      "City      NYC\n",
      "Name: 0, dtype: object\n",
      "      Name  Age     City\n",
      "1      Bob   30       LA\n",
      "2  Charlie   35  Chicago\n",
      "25\n",
      "LA\n",
      "      Name  Age     City\n",
      "1      Bob   30       LA\n",
      "2  Charlie   35  Chicago\n"
     ]
    }
   ],
   "source": [
    "# Truy xuất cột\n",
    "print(df['Name'])  # Series: Alice, Bob, Charlie\n",
    "\n",
    "# Truy xuất hàng (loc: theo label, iloc: theo index)\n",
    "print(df.loc[0])  # Hàng đầu: Name Alice, Age 25, City NYC\n",
    "print(df.iloc[1:3])  # Hàng 1-2\n",
    "\n",
    "# Truy xuất cell cụ thể\n",
    "print(df.at[0, 'Age'])  # 25\n",
    "print(df.iat[1, 2])  # LA\n",
    "\n",
    "# Lọc dữ liệu\n",
    "print(df[df['Age'] > 25])  # Những người >25 tuổi"
   ]
  },
  {
   "cell_type": "code",
   "execution_count": 10,
   "id": "29dd134c",
   "metadata": {},
   "outputs": [
    {
     "name": "stdout",
     "output_type": "stream",
     "text": [
      "Department\n",
      "HR    52500.0\n",
      "IT    62500.0\n",
      "Name: Salary, dtype: float64\n",
      "             Salary        \n",
      "               mean     sum\n",
      "Department                 \n",
      "HR          52500.0  105000\n",
      "IT          62500.0  125000\n"
     ]
    }
   ],
   "source": [
    "import pandas as pd\n",
    "\n",
    "# Tạo DataFrame mẫu\n",
    "df = pd.DataFrame({\n",
    "    'Department': ['HR', 'IT', 'HR', 'IT'],\n",
    "    'Employee': ['Alice', 'Bob', 'Charlie', 'David'],\n",
    "    'Salary': [50000, 60000, 55000, 65000]\n",
    "})\n",
    "\n",
    "# GroupBy theo Department và tính trung bình lương\n",
    "grouped = df.groupby('Department')['Salary'].mean()\n",
    "print(grouped)\n",
    "\n",
    "\n",
    "# Nhiều tính toán\n",
    "print(df.groupby('Department').agg({'Salary': ['mean', 'sum']}))"
   ]
  },
  {
   "cell_type": "code",
   "execution_count": 11,
   "id": "3d022768",
   "metadata": {},
   "outputs": [
    {
     "name": "stdout",
     "output_type": "stream",
     "text": [
      "   ID   Name  Salary\n",
      "0   1  Alice   50000\n",
      "1   2    Bob   60000\n"
     ]
    }
   ],
   "source": [
    "# DataFrame 1\n",
    "df1 = pd.DataFrame({'ID': [1, 2], 'Name': ['Alice', 'Bob']})\n",
    "\n",
    "# DataFrame 2\n",
    "df2 = pd.DataFrame({'ID': [1, 2], 'Salary': [50000, 60000]})\n",
    "\n",
    "# Merge theo cột 'ID'\n",
    "merged = pd.merge(df1, df2, on='ID')\n",
    "print(merged)\n",
    "# Output:\n",
    "#    ID   Name  Salary\n",
    "# 0   1  Alice   50000\n",
    "# 1   2    Bob   60000"
   ]
  },
  {
   "cell_type": "code",
   "execution_count": 12,
   "id": "cf417211",
   "metadata": {},
   "outputs": [
    {
     "name": "stdout",
     "output_type": "stream",
     "text": [
      "    Name  Salary\n",
      "1  Alice   50000\n",
      "2    Bob   60000\n"
     ]
    }
   ],
   "source": [
    "# DataFrame với index\n",
    "df1 = pd.DataFrame({'Name': ['Alice', 'Bob']}, index=[1, 2])\n",
    "df2 = pd.DataFrame({'Salary': [50000, 60000]}, index=[1, 2])\n",
    "\n",
    "# Join theo index (mặc định left join)\n",
    "joined = df1.join(df2)\n",
    "print(joined)\n",
    "# Output:\n",
    "#     Name  Salary\n",
    "# 1  Alice   50000\n",
    "# 2    Bob   60000"
   ]
  },
  {
   "cell_type": "code",
   "execution_count": 13,
   "id": "424b8d25",
   "metadata": {},
   "outputs": [
    {
     "name": "stdout",
     "output_type": "stream",
     "text": [
      "      Name\n",
      "0    Alice\n",
      "1      Bob\n",
      "0  Charlie\n",
      "1    David\n",
      "    Name  Age\n",
      "0  Alice   25\n",
      "1    Bob   30\n"
     ]
    }
   ],
   "source": [
    "# DataFrame 1\n",
    "df1 = pd.DataFrame({'Name': ['Alice', 'Bob']})\n",
    "\n",
    "# DataFrame 2\n",
    "df2 = pd.DataFrame({'Name': ['Charlie', 'David']})\n",
    "\n",
    "# Concat theo hàng (axis=0)\n",
    "concatenated = pd.concat([df1, df2])\n",
    "print(concatenated)\n",
    "# Output:\n",
    "#      Name\n",
    "# 0   Alice\n",
    "# 1     Bob\n",
    "# 0 Charlie\n",
    "# 1   David\n",
    "\n",
    "# Concat theo cột (axis=1)\n",
    "df3 = pd.DataFrame({'Age': [25, 30]})\n",
    "concat_col = pd.concat([df1, df3], axis=1)\n",
    "print(concat_col)\n",
    "# Output:\n",
    "#      Name  Age\n",
    "# 0   Alice   25\n",
    "# 1     Bob   30"
   ]
  },
  {
   "cell_type": "code",
   "execution_count": null,
   "id": "e8c141cc",
   "metadata": {},
   "outputs": [],
   "source": []
  }
 ],
 "metadata": {
  "kernelspec": {
   "display_name": "base",
   "language": "python",
   "name": "python3"
  },
  "language_info": {
   "codemirror_mode": {
    "name": "ipython",
    "version": 3
   },
   "file_extension": ".py",
   "mimetype": "text/x-python",
   "name": "python",
   "nbconvert_exporter": "python",
   "pygments_lexer": "ipython3",
   "version": "3.12.3"
  }
 },
 "nbformat": 4,
 "nbformat_minor": 5
}
