{
 "cells": [
  {
   "cell_type": "code",
   "execution_count": 1,
   "id": "ca904931",
   "metadata": {},
   "outputs": [],
   "source": [
    "from __future__ import print_function\n",
    "import numpy as np \n",
    "import matplotlib.pyplot as plt\n",
    "from scipy.spatial.distance import cdist\n",
    "np.random.seed(22)\n",
    "\n",
    "means = [[2, 2], [4, 2]]\n",
    "cov = [[.3, .2], [.2, .3]]\n",
    "N = 10\n",
    "X0 = np.random.multivariate_normal(means[0], cov, N) # class 1\n",
    "X1 = np.random.multivariate_normal(means[1], cov, N) # class -1 \n",
    "X = np.concatenate((X0.T, X1.T), axis = 1) # all data \n",
    "y = np.concatenate((np.ones((1, N)), -1*np.ones((1, N))), axis = 1) # labels "
   ]
  },
  {
   "cell_type": "code",
   "execution_count": null,
   "id": "3fc5d4b2",
   "metadata": {},
   "outputs": [],
   "source": [
    "# Cell tiếp theo sau data generation\n",
    "from sklearn.svm import SVC\n",
    "from sklearn.metrics import accuracy_score\n",
    "\n",
    "# Flatten y for sklearn\n",
    "y_flat = y.flatten()\n",
    "\n",
    "# Train SVM model\n",
    "svm_model = SVC(kernel='linear', C=1.0)  # Linear kernel\n",
    "svm_model.fit(X.T, y_flat)  # X.T vì X là (2, 20)\n",
    "\n",
    "# Predict on training data\n",
    "y_pred = svm_model.predict(X.T)\n",
    "\n",
    "# Accuracy\n",
    "accuracy = accuracy_score(y_flat, y_pred)\n",
    "print(f'Accuracy: {accuracy * 100:.2f}%')\n",
    "\n",
    "# Plot decision boundary (optional)\n",
    "def plot_svm(X, y, model):\n",
    "    plt.scatter(X[0, :N], X[1, :N], c='red', label='Class 1')\n",
    "    plt.scatter(X[0, N:], X[1, N:], c='blue', label='Class -1')\n",
    "    \n",
    "    # Decision boundary\n",
    "    ax = plt.gca()\n",
    "    xlim = ax.get_xlim()\n",
    "    ylim = ax.get_ylim()\n",
    "    \n",
    "    xx = np.linspace(xlim[0], xlim[1], 30)\n",
    "    yy = np.linspace(ylim[0], ylim[1], 30)\n",
    "    YY, XX = np.meshgrid(yy, xx)\n",
    "    xy = np.vstack([XX.ravel(), YY.ravel()]).T\n",
    "    Z = model.decision_function(xy).reshape(XX.shape)\n",
    "    \n",
    "    ax.contour(XX, YY, Z, colors='k', levels=[-1, 0, 1], alpha=0.5, linestyles=['--', '-', '--'])\n",
    "    plt.legend()\n",
    "    plt.show()\n",
    "\n",
    "plot_svm(X, y_flat, svm_model)"
   ]
  }
 ],
 "metadata": {
  "kernelspec": {
   "display_name": "base",
   "language": "python",
   "name": "python3"
  },
  "language_info": {
   "codemirror_mode": {
    "name": "ipython",
    "version": 3
   },
   "file_extension": ".py",
   "mimetype": "text/x-python",
   "name": "python",
   "nbconvert_exporter": "python",
   "pygments_lexer": "ipython3",
   "version": "undefined.undefined.undefined"
  }
 },
 "nbformat": 4,
 "nbformat_minor": 5
}
