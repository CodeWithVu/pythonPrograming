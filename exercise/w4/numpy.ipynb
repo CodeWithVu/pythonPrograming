{
  "cells": [
    {
      "cell_type": "markdown",
      "metadata": {
        "id": "view-in-github",
        "colab_type": "text"
      },
      "source": [
        "<a href=\"https://colab.research.google.com/github/CodeWithVu/pythonPrograming/blob/main/exercise/w4/numpy.ipynb\" target=\"_parent\"><img src=\"https://colab.research.google.com/assets/colab-badge.svg\" alt=\"Open In Colab\"/></a>"
      ]
    },
    {
      "cell_type": "markdown",
      "source": [
        "# **TUẦN 3: Numpy**\n",
        "\n",
        "10 ví dụ numpy\n",
        "\n",
        "1. Khởi tạo ma trận (list, hằng số, random).\n",
        "\n",
        "2. Các phép toán cơ bản trên ma trận.\n",
        "\n",
        "3. Thao tác hàng/cột.\n",
        "\n",
        "4. Vector (mảng 1 chiều, cộng, dot, nhân ma trận với vector).\n",
        "\n",
        "5. Mảng nhiều chiều (ndarray 3D).\n",
        "\n",
        "6. Tách và ghép ma trận (hstack, vstack, slicing).\n",
        "\n",
        "7. Một số hàm NumPy hữu ích (sum, mean, max, min, where, filter).\n",
        "\n",
        "8. Số tuyến tính (định thức, nghịch đảo).\n",
        "\n",
        "9. Ma trận chuyển vị & kiểm tra đối xứng.\n",
        "\n",
        "10. Một số hàm NumPy mở rộng (search/research)"
      ],
      "metadata": {
        "id": "x7BWLnkctC0g"
      },
      "id": "x7BWLnkctC0g"
    },
    {
      "cell_type": "code",
      "execution_count": null,
      "id": "2f63d68f",
      "metadata": {
        "id": "2f63d68f"
      },
      "outputs": [],
      "source": [
        "import numpy as np\n"
      ]
    },
    {
      "cell_type": "code",
      "execution_count": null,
      "id": "bdcebe1d",
      "metadata": {
        "colab": {
          "base_uri": "https://localhost:8080/"
        },
        "id": "bdcebe1d",
        "outputId": "a065ca4f-e124-4a02-cc90-1cf074e928c7"
      },
      "outputs": [
        {
          "output_type": "stream",
          "name": "stdout",
          "text": [
            "Ma trận A:\n",
            " [[1 2 3]\n",
            " [4 5 6]\n",
            " [7 8 9]]\n",
            "\n",
            "Ma trận toàn số 5:\n",
            " [[5 5 5]\n",
            " [5 5 5]\n",
            " [5 5 5]]\n",
            "\n",
            "Ma trận B (random):\n",
            " [[2 1 3]\n",
            " [8 9 4]\n",
            " [1 3 6]]\n"
          ]
        }
      ],
      "source": [
        "# 1. Khởi tạo ma trận\n",
        "# Cách 1: Từ hằng số hoặc list\n",
        "A = np.array([[1,2,3],\n",
        "              [4,5,6],\n",
        "              [7,8,9]])\n",
        "print(\"Ma trận A:\\n\", A)\n",
        "\n",
        "# Ma trận toàn số 5 (hằng số)\n",
        "C = np.full((3,3), 5)\n",
        "print(\"\\nMa trận toàn số 5:\\n\", C)\n",
        "\n",
        "# Cách 2: Khởi tạo ngẫu nhiên\n",
        "B = np.random.randint(0,10,(3,3))\n",
        "print(\"\\nMa trận B (random):\\n\", B)"
      ]
    },
    {
      "cell_type": "code",
      "execution_count": null,
      "id": "f8cdf90f",
      "metadata": {
        "colab": {
          "base_uri": "https://localhost:8080/"
        },
        "id": "f8cdf90f",
        "outputId": "34b6d26d-dc81-46ef-cc2f-96f8319af93d"
      },
      "outputs": [
        {
          "output_type": "stream",
          "name": "stdout",
          "text": [
            "B + C =\n",
            " [[ 3  3  6]\n",
            " [12 14 10]\n",
            " [ 8 11 15]]\n",
            "B - C =\n",
            " [[ 1 -1  0]\n",
            " [ 4  4 -2]\n",
            " [-6 -5 -3]]\n",
            "B * C =\n",
            " [[ 2  2  9]\n",
            " [32 45 24]\n",
            " [ 7 24 54]]\n",
            "B / C =\n",
            " [[2.         0.5        1.        ]\n",
            " [2.         1.8        0.66666667]\n",
            " [0.14285714 0.375      0.66666667]]\n",
            "A · B =\n",
            " [[ 21  28  29]\n",
            " [ 54  67  68]\n",
            " [ 87 106 107]]\n"
          ]
        }
      ],
      "source": [
        "# 2. Các phép toán cơ bản trên ma trận\n",
        "D = B + A\n",
        "print(\"B + C =\\n\", D)\n",
        "\n",
        "E = B - A\n",
        "print(\"B - C =\\n\", E)\n",
        "\n",
        "F = B * A\n",
        "print(\"B * C =\\n\", F)\n",
        "\n",
        "G = B / A\n",
        "print(\"B / C =\\n\", G)\n",
        "# Tích vô hướng\n",
        "dot_AB = np.dot(A, B)\n",
        "print(\"A · B =\\n\", dot_AB)"
      ]
    },
    {
      "cell_type": "code",
      "source": [
        "# 3. Thao tác trên một hàng, một cột\n",
        "# Lấy hàng 1, nhân 2\n",
        "print(A[0, :] * 2)\n",
        "\n",
        "# Lấy cột 2, cộng 10\n",
        "print(A[:, 1] + 10)\n",
        "\n",
        "# Thay cột 1 bằng toàn số 0\n",
        "A[:, 0] = 0\n",
        "print(A)"
      ],
      "metadata": {
        "colab": {
          "base_uri": "https://localhost:8080/"
        },
        "id": "QgFBdY7gzgD7",
        "outputId": "2196d267-c4c3-4897-845b-1fa60d1c7685"
      },
      "id": "QgFBdY7gzgD7",
      "execution_count": null,
      "outputs": [
        {
          "output_type": "stream",
          "name": "stdout",
          "text": [
            "[198   4   6]\n",
            "[12 15 18]\n",
            "[[0 2 3]\n",
            " [0 5 6]\n",
            " [0 8 9]]\n"
          ]
        }
      ]
    },
    {
      "cell_type": "code",
      "source": [
        "# 4. Vector (mảng 1 chiều)\n",
        "v1 = np.array([1,2,3])\n",
        "v2 = np.array([4,5,6])\n",
        "print(\"\\nVector v1:\", v1)\n",
        "print(\"Vector v2:\", v2)\n",
        "print(\"Cộng vector:\", v1+v2)\n",
        "print(\"Tích vô hướng vector:\", np.dot(v1,v2))\n",
        "\n",
        "# Nhân ma trận với vector\n",
        "print(\"A nhân v1:\", np.dot(A, v1))"
      ],
      "metadata": {
        "colab": {
          "base_uri": "https://localhost:8080/"
        },
        "id": "_sPZKLk_zf9j",
        "outputId": "1174ccff-659d-4866-db8c-c7e2c8a0b084"
      },
      "id": "_sPZKLk_zf9j",
      "execution_count": null,
      "outputs": [
        {
          "output_type": "stream",
          "name": "stdout",
          "text": [
            "\n",
            "Vector v1: [1 2 3]\n",
            "Vector v2: [4 5 6]\n",
            "Cộng vector: [5 7 9]\n",
            "Tích vô hướng vector: 32\n",
            "A nhân v1: [13 28 43]\n"
          ]
        }
      ]
    },
    {
      "cell_type": "code",
      "source": [
        "# 5. Thao tác trên mảng hai chiều\n",
        "A = np.array([[1, 2, 3],\n",
        "              [4, 5, 6],\n",
        "              [7, 8, 9]])\n",
        "\n",
        "# Lấy một phần tử\n",
        "print(A[0, 1])     # hàng 0, cột 1 → 2\n",
        "\n",
        "# Lấy một hàng\n",
        "print(A[1, :])     # hàng thứ 2 → [4 5 6]\n",
        "\n",
        "# Lấy một cột\n",
        "print(A[:, 2])     # cột thứ 3 → [3 6 9]\n",
        "\n",
        "# Cắt sub-ma trận\n",
        "print(A[0:2, 1:3]) # lấy 2 hàng đầu, cột 1-2 → [[2 3] [5 6]]\n",
        "\n",
        "# Thay đổi giá trị\n",
        "A[0, 0] = 99\n",
        "print(A)"
      ],
      "metadata": {
        "colab": {
          "base_uri": "https://localhost:8080/"
        },
        "id": "Vw3ig_f1vram",
        "outputId": "e8efa8a4-ef1f-4f79-de01-89d64a36cdfb"
      },
      "id": "Vw3ig_f1vram",
      "execution_count": null,
      "outputs": [
        {
          "output_type": "stream",
          "name": "stdout",
          "text": [
            "2\n",
            "[4 5 6]\n",
            "[3 6 9]\n",
            "[[2 3]\n",
            " [5 6]]\n",
            "[[99  2  3]\n",
            " [ 4  5  6]\n",
            " [ 7  8  9]]\n"
          ]
        }
      ]
    },
    {
      "cell_type": "code",
      "source": [
        "# 6. Tách và ghép ma trận\n",
        "# Ghép ma trận\n",
        "V = np.vstack((A, B))\n",
        "print(\"Ghép dọc:\\n\", V)\n",
        "\n",
        "# Ghép theo cột (ngang - horizontal)\n",
        "H = np.hstack((A, B))\n",
        "print(\"Ghép ngang:\\n\", H)\n",
        "\n",
        "# Ghép tổng quát (axis=0: theo hàng, axis=1: theo cột)\n",
        "J = np.concatenate((A, B), axis=0)  # ghép dọc\n",
        "print(\"concatenate axis=0:\\n\", J)\n",
        "\n",
        "L = np.concatenate((A, B), axis=1)  # ghép ngang\n",
        "print(\"concatenate axis=1:\\n\", L)"
      ],
      "metadata": {
        "colab": {
          "base_uri": "https://localhost:8080/"
        },
        "id": "E-LCEynDvpq_",
        "outputId": "9614f58a-1f2b-44cd-de07-63a768327579"
      },
      "id": "E-LCEynDvpq_",
      "execution_count": null,
      "outputs": [
        {
          "output_type": "stream",
          "name": "stdout",
          "text": [
            "Ghép dọc:\n",
            " [[0 2 3]\n",
            " [0 5 6]\n",
            " [0 8 9]\n",
            " [2 1 3]\n",
            " [8 9 4]\n",
            " [1 3 6]]\n",
            "Ghép ngang:\n",
            " [[0 2 3 2 1 3]\n",
            " [0 5 6 8 9 4]\n",
            " [0 8 9 1 3 6]]\n",
            "concatenate axis=0:\n",
            " [[0 2 3]\n",
            " [0 5 6]\n",
            " [0 8 9]\n",
            " [2 1 3]\n",
            " [8 9 4]\n",
            " [1 3 6]]\n",
            "concatenate axis=1:\n",
            " [[0 2 3 2 1 3]\n",
            " [0 5 6 8 9 4]\n",
            " [0 8 9 1 3 6]]\n"
          ]
        }
      ]
    },
    {
      "cell_type": "code",
      "execution_count": null,
      "id": "2271356f",
      "metadata": {
        "colab": {
          "base_uri": "https://localhost:8080/"
        },
        "id": "2271356f",
        "outputId": "c32b4c94-b186-46b4-acac-0aa12ae48d38"
      },
      "outputs": [
        {
          "output_type": "stream",
          "name": "stdout",
          "text": [
            "Tách cột: [array([[2],\n",
            "       [8],\n",
            "       [1]]), array([[1],\n",
            "       [9],\n",
            "       [3]]), array([[3],\n",
            "       [4],\n",
            "       [6]])]\n",
            "Tách hàng: [array([[2, 1, 3]]), array([[8, 9, 4]]), array([[1, 3, 6]])]\n",
            "Tách vector: [array([10, 20]), array([30, 40]), array([50])]\n"
          ]
        }
      ],
      "source": [
        "# Tách ma trận\n",
        "# Tách theo cột\n",
        "cols = np.hsplit(B, 3)   # tách thành 2 ma trận con theo cột\n",
        "print(\"Tách cột:\", cols)\n",
        "\n",
        "# Tách theo hàng\n",
        "rows = np.vsplit(B, 3)   # tách thành 2 ma trận con theo hàng\n",
        "print(\"Tách hàng:\", rows)\n",
        "\n",
        "# Tách vector 1D\n",
        "v = np.array([10, 20, 30, 40, 50])\n",
        "parts = np.split(v, [2, 4])  # tách tại vị trí index 2 và 4\n",
        "print(\"Tách vector:\", parts)"
      ]
    },
    {
      "cell_type": "code",
      "execution_count": null,
      "id": "3026fe4c",
      "metadata": {
        "colab": {
          "base_uri": "https://localhost:8080/"
        },
        "id": "3026fe4c",
        "outputId": "db1f57f5-b37f-4936-8702-9fb47c5ef5b8"
      },
      "outputs": [
        {
          "output_type": "stream",
          "name": "stdout",
          "text": [
            "\n",
            "Tổng: 150\n",
            "Trung bình: 30.0\n",
            "Max: 50\n",
            "Min: 10\n",
            "Vị trí của 30: (array([2]),)\n",
            "Các số > 25: [30 40 50]\n"
          ]
        }
      ],
      "source": [
        "# 7. Một số hàm NumPy hữu ích\n",
        "data = np.array([10,20,30,40,50])\n",
        "print(\"\\nTổng:\", np.sum(data))\n",
        "print(\"Trung bình:\", np.mean(data))\n",
        "print(\"Max:\", np.max(data))\n",
        "print(\"Min:\", np.min(data))\n",
        "print(\"Vị trí của 30:\", np.where(data==30))\n",
        "print(\"Các số > 25:\", data[data>25])"
      ]
    },
    {
      "cell_type": "code",
      "source": [
        "# 8. Đại số tuyến tính\n",
        "M = np.array([[1,2],[3,4]])\n",
        "print(\"\\nĐịnh thức của M:\", np.linalg.det(M))\n",
        "print(\"Nghịch đảo của M:\\n\", np.linalg.inv(M))"
      ],
      "metadata": {
        "colab": {
          "base_uri": "https://localhost:8080/"
        },
        "id": "axPExv880BpM",
        "outputId": "ca9c77b4-58f6-46e8-d106-05738e837c72"
      },
      "id": "axPExv880BpM",
      "execution_count": null,
      "outputs": [
        {
          "output_type": "stream",
          "name": "stdout",
          "text": [
            "\n",
            "Định thức của M: -2.0000000000000004\n",
            "Nghịch đảo của M:\n",
            " [[-2.   1. ]\n",
            " [ 1.5 -0.5]]\n"
          ]
        }
      ]
    },
    {
      "cell_type": "code",
      "source": [
        "# 9. Ma trận chuyển vị & ma trận đối xứng\n",
        "print(\"\\nMa trận A chuyển vị:\\n\", A.T)   # transpose\n",
        "print(\"Kiểm tra A có đối xứng không?:\", np.allclose(A, A.T))\n"
      ],
      "metadata": {
        "colab": {
          "base_uri": "https://localhost:8080/"
        },
        "id": "T3BW9H5T0Dc9",
        "outputId": "16a3c896-f813-48f8-c4a1-a44363644127"
      },
      "id": "T3BW9H5T0Dc9",
      "execution_count": null,
      "outputs": [
        {
          "output_type": "stream",
          "name": "stdout",
          "text": [
            "\n",
            "Ma trận A chuyển vị:\n",
            " [[0 0 0]\n",
            " [2 5 8]\n",
            " [3 6 9]]\n",
            "Kiểm tra A có đối xứng không?: False\n"
          ]
        }
      ]
    },
    {
      "cell_type": "code",
      "source": [
        "#10. Một số hàm NumPy mở rộng (search/research)\n",
        "G = np.array([1, 2, 3, 4, 5])\n",
        "print(\"Trung bình =\", np.mean(G))\n",
        "print(\"Độ lệch chuẩn =\", np.std(G))\n",
        "print(\"Tích luỹ (cumsum) =\", np.cumsum(G))\n",
        "print(\"Sắp xếp ngược =\", np.sort(G)[::-1])"
      ],
      "metadata": {
        "colab": {
          "base_uri": "https://localhost:8080/"
        },
        "id": "kOm-SJV30FLC",
        "outputId": "314ff517-d964-4469-e93a-0be361f2a1c1"
      },
      "id": "kOm-SJV30FLC",
      "execution_count": null,
      "outputs": [
        {
          "output_type": "stream",
          "name": "stdout",
          "text": [
            "Trung bình = 3.0\n",
            "Độ lệch chuẩn = 1.4142135623730951\n",
            "Tích luỹ (cumsum) = [ 1  3  6 10 15]\n",
            "Sắp xếp ngược = [5 4 3 2 1]\n"
          ]
        }
      ]
    },
    {
      "cell_type": "code",
      "source": [],
      "metadata": {
        "id": "7umhpzZx0GkA"
      },
      "id": "7umhpzZx0GkA",
      "execution_count": null,
      "outputs": []
    }
  ],
  "metadata": {
    "kernelspec": {
      "display_name": "base",
      "language": "python",
      "name": "python3"
    },
    "language_info": {
      "codemirror_mode": {
        "name": "ipython",
        "version": 3
      },
      "file_extension": ".py",
      "mimetype": "text/x-python",
      "name": "python",
      "nbconvert_exporter": "python",
      "pygments_lexer": "ipython3",
      "version": "3.12.3"
    },
    "colab": {
      "provenance": [],
      "include_colab_link": true
    }
  },
  "nbformat": 4,
  "nbformat_minor": 5
}