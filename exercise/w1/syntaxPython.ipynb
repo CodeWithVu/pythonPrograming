{
 "cells": [
  {
   "cell_type": "markdown",
   "id": "6335aaf1",
   "metadata": {},
   "source": [
    "## Các bài toán cơ bản với python"
   ]
  },
  {
   "cell_type": "code",
   "execution_count": null,
   "id": "e5317aea",
   "metadata": {},
   "outputs": [],
   "source": [
    "# Bài 1: Khởi tạo biến và tính toán đơn giản\n",
    "a = int(input(\"Nhập số a: \"))\n",
    "b = int(input(\"Nhập số b: \"))\n",
    "tong = a + b\n",
    "hieu = a - b\n",
    "tich = a * b\n",
    "thuong = a / b\n",
    "print(\"Tổng:\", tong)\n",
    "print(\"Hiệu:\", hieu)\n",
    "print(\"Tích:\", tich)\n",
    "print(\"Thương:\", thuong)\n"
   ]
  },
  {
   "cell_type": "markdown",
   "id": "64f816fa",
   "metadata": {},
   "source": []
  },
  {
   "cell_type": "markdown",
   "id": "93a453b7",
   "metadata": {},
   "source": []
  }
 ],
 "metadata": {
  "kernelspec": {
   "display_name": "base",
   "language": "python",
   "name": "python3"
  },
  "language_info": {
   "codemirror_mode": {
    "name": "ipython",
    "version": 3
   },
   "file_extension": ".py",
   "mimetype": "text/x-python",
   "name": "python",
   "nbconvert_exporter": "python",
   "pygments_lexer": "ipython3",
   "version": "3.12.3"
  }
 },
 "nbformat": 4,
 "nbformat_minor": 5
}
