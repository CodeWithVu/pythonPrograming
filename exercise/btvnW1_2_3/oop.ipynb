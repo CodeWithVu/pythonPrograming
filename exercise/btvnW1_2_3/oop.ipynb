{
 "cells": [
  {
   "cell_type": "markdown",
   "id": "1164f229",
   "metadata": {},
   "source": [
    "Mô tả bài toán:\n",
    "\n",
    "Một quán cà phê có nhu cầu đặt hàng xây dựng một phần mềm quản lý một số hoạt động kinh doanh của quán. Khách mua cà phê có thể dùng tại chỗ, hoặc mang đi. Quán không cần lưu trữ thông tin về khách hàng.\n",
    "\n",
    "Câu 1.\n",
    "\n",
    "- a) Hãy định nghĩa lớp Coffee bao gồm những dữ liệu sau đây về cà phê: tên, giá (tính theo đơn vị bán là một ly), loại (nóng/lạnh).\n",
    "- b) Hãy định nghĩa thêm các constructor để khởi tạo các đối tượng của lớp Coffee.\n",
    "\n",
    "Câu 2.\n",
    "\n",
    "- a) Hãy định nghĩa lớp CoffeeMenu để biểu diễn danh sách những loại cà phê và giá của chúng trong thực đơn.\n",
    "- b) Hãy định nghĩa phương thức addToMenu(Coffee coffee) để thêm một món cà phê vào thực đơn.\n",
    "- c) Hãy định nghĩa phương thức displayMenu() để hiển thị danh sách các món cà phê và giá của mỗi món trong thực đơn."
   ]
  },
  {
   "cell_type": "code",
   "execution_count": 1,
   "id": "d6e6e246",
   "metadata": {},
   "outputs": [],
   "source": [
    "class Coffee:\n",
    "  def __init__(self, name, price, category):\n",
    "    self.__name = name\n",
    "    self.__price = price\n",
    "    self.__category = category\n",
    "\n",
    "  def get_name(self):\n",
    "    return self.__name\n",
    "  \n",
    "  def get__price(self):\n",
    "    return self.__price\n",
    "  \n",
    "  def get__category(self):\n",
    "    return self.__category\n",
    "  \n",
    "  def get__description(self):\n",
    "    return f\"{self.__name} ({self.__category}): ${self.__price}\"\n",
    "  "
   ]
  },
  {
   "cell_type": "code",
   "execution_count": 2,
   "id": "210e966a",
   "metadata": {},
   "outputs": [],
   "source": [
    "class HotCoffee(Coffee):\n",
    "  def __init__(self, name, price):\n",
    "    super().__init__(name, price, \"nóng\")\n",
    "\n",
    "\n",
    "  def get_description(self):\n",
    "    return f\"Nóng {super().get__description()} - Tỉnh táo dù ngày lạnh!\""
   ]
  },
  {
   "cell_type": "code",
   "execution_count": 3,
   "id": "68a1f14d",
   "metadata": {},
   "outputs": [],
   "source": [
    "class ColdCoffee(Coffee):\n",
    "  def __init__(self, name, price):\n",
    "    super().__init__(name, price, \"đá\")\n",
    "\n",
    "  def get__description(self):\n",
    "    return f\"Lạnh {super().get__description()} - Tỉnh táo cho ngày dài!\""
   ]
  },
  {
   "cell_type": "code",
   "execution_count": null,
   "id": "79836764",
   "metadata": {},
   "outputs": [],
   "source": [
    "class CoffeeMenu:\n",
    "    def __init__(self):\n",
    "        self.coffees = []  \n",
    "\n",
    "    # Phương thức addToMenu(2b)\n",
    "    def addToMenu(self, coffee):\n",
    "        if isinstance(coffee, Coffee):\n",
    "            self.coffees.append(coffee) \n",
    "        else:\n",
    "            print(\"chỉ có đối tượng coffee mới được thêm vào!\")\n",
    "\n",
    "    def displayMenu(self):\n",
    "        if not self.coffees:\n",
    "            print(\"menu trống\")\n",
    "        else:\n",
    "            print(\"Coffee menu:\")\n",
    "            for coffee in self.coffees:  \n",
    "                print(f\"- {coffee.get__description()}\")"
   ]
  },
  {
   "cell_type": "code",
   "execution_count": null,
   "id": "bc258d43",
   "metadata": {},
   "outputs": [],
   "source": [
    "menu = CoffeeMenu()\n",
    "\n",
    "hot_coffee = HotCoffee(\"Cà phê đen\", 2.5)\n",
    "cold_coffee = ColdCoffee(\"Cà phê sữa\", 3.5)\n",
    "coffee = Coffee(\"bạc xỉu\", 2.5, \"đá\")\n",
    "coffee2 = Coffee(\"bạc xỉu\", 2.3, \"đá ít\")\n",
    "\n",
    "\n",
    "menu.addToMenu(hot_coffee)\n",
    "menu.addToMenu(cold_coffee)\n",
    "menu.addToMenu(coffee)\n",
    "menu.addToMenu(coffee2)\n"
   ]
  },
  {
   "cell_type": "code",
   "execution_count": 25,
   "id": "e3ecfd2f",
   "metadata": {},
   "outputs": [
    {
     "name": "stdout",
     "output_type": "stream",
     "text": [
      "Coffee menu:\n",
      "- Cà phê đen (nóng): $2.5\n",
      "- Lạnh Cà phê sữa (đá): $3.5 - Tỉnh táo cho ngày dài!\n",
      "- bạc xỉu (đá): $2.5\n",
      "- bạc xỉu (đá ít): $2.3\n"
     ]
    }
   ],
   "source": [
    "menu.displayMenu()"
   ]
  },
  {
   "cell_type": "code",
   "execution_count": null,
   "id": "c5f9a68a",
   "metadata": {},
   "outputs": [],
   "source": []
  }
 ],
 "metadata": {
  "kernelspec": {
   "display_name": "base",
   "language": "python",
   "name": "python3"
  },
  "language_info": {
   "codemirror_mode": {
    "name": "ipython",
    "version": 3
   },
   "file_extension": ".py",
   "mimetype": "text/x-python",
   "name": "python",
   "nbconvert_exporter": "python",
   "pygments_lexer": "ipython3",
   "version": "3.12.3"
  }
 },
 "nbformat": 4,
 "nbformat_minor": 5
}
