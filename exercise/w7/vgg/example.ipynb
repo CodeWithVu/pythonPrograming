{
 "cells": [
  {
   "cell_type": "code",
   "execution_count": null,
   "id": "7de6234e",
   "metadata": {},
   "outputs": [],
   "source": [
    "import torch\n",
    "from torchvision import models, transforms\n",
    "from PIL import Image\n",
    "import matplotlib.pyplot as plt\n",
    "from src.vgg_model import load_vgg_model\n",
    "from src.utils import preprocess_image, display_prediction"
   ]
  },
  {
   "cell_type": "code",
   "execution_count": null,
   "id": "7575e099",
   "metadata": {},
   "outputs": [],
   "source": [
    "# Load the VGG model\n",
    "model = load_vgg_model(pretrained=True)\n",
    "model.eval()  # Set the model to evaluation mode"
   ]
  },
  {
   "cell_type": "code",
   "execution_count": null,
   "id": "7c4ca0dd",
   "metadata": {},
   "outputs": [],
   "source": [
    "# Load and preprocess an image\n",
    "image_path = 'path_to_your_image.jpg'  # Update this path\n",
    "input_image = preprocess_image(image_path)\n",
    "input_image = input_image.unsqueeze(0)  # Add batch dimension"
   ]
  },
  {
   "cell_type": "code",
   "execution_count": null,
   "id": "d69068aa",
   "metadata": {},
   "outputs": [],
   "source": [
    "# Make a prediction\n",
    "with torch.no_grad():\n",
    "    output = model(input_image)\n",
    "    _, predicted = torch.max(output, 1)\n",
    "    display_prediction(predicted)"
   ]
  }
 ],
 "metadata": {
  "language_info": {
   "name": "python"
  }
 },
 "nbformat": 4,
 "nbformat_minor": 5
}
