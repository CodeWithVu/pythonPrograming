{
 "cells": [
  {
   "cell_type": "code",
   "execution_count": null,
   "id": "6ef33ab4",
   "metadata": {},
   "outputs": [],
   "source": [
    "# doAn/\n",
    "# ├── src/\n",
    "# │   ├── data_loading.py       # 1. Tạo dataframe từ filepaths và labels\n",
    "# │   ├── data_analysis.py      # 2. Phân tích dataset (count classes, avg size)\n",
    "# │   ├── data_trimming.py      # 3. Trim function để balance dataset\n",
    "# │   ├── generators.py         # 4. Tạo train/valid/test generators\n",
    "# │   ├── model_creation.py     # 5. Tạo EfficientNetB3 model\n",
    "# │   ├── callbacks_custom.py   # 6. ASK callback class\n",
    "# │   ├── callbacks_setup.py    # 7. Instantiate callbacks (ASK, ReduceLROnPlateau, EarlyStopping)\n",
    "# │   ├── training.py           # 8. Logic training model\n",
    "# │   ├── visualization.py      # 9. Show images, plot training data\n",
    "# │   └── evaluation.py         # 10. Predictor, confusion matrix, save model\n",
    "# ├── notebooks/\n",
    "# │   └── main.ipynb            # Notebook chính (import và chạy)\n",
    "# ├── requirements.txt\n",
    "# └── README.md"
   ]
  },
  {
   "cell_type": "code",
   "execution_count": null,
   "id": "88c914bd",
   "metadata": {},
   "outputs": [],
   "source": [
    "from src.data_loading import create_dataframe\n",
    "from src.data_analysis import analyze_dataset\n"
   ]
  }
 ],
 "metadata": {
  "language_info": {
   "name": "python"
  }
 },
 "nbformat": 4,
 "nbformat_minor": 5
}
